{
 "cells": [
  {
   "cell_type": "markdown",
   "id": "2bb3239a",
   "metadata": {},
   "source": [
    "# Regresja i klasyfikacja\n",
    "\n",
    "## Miłosz Mizak\n",
    "\n",
    "### 1. Wstęp\n",
    "Przedmiotem czwartego zadania było zadanie klasyfikacji. Należało zaimplementować algorytm SVM wraz z implementacją jąder, a następnie zbadać działanie algorytmu na podstawie [Wine Quality Data Set](https://archive.ics.uci.edu/ml/datasets/wine+quality). Aby tego dokonać, postanowiłem użyć algorytmu do przewidywania jakości danego wina na podstawie 11 parametrów, określonych w ww. zbiorze danych.\n",
    "\n",
    "### 2. Opis implementacji\n",
    "Implementacja składa się z trzech plików: pliku **wineProcessing.py**, w którym znajdują się funkcje potrzebne do obróbki zbioru danych. Znajduje się tam także sposób podziału win na dwie klasy. Klasa -1 jest przyznawana tym winom, które mają jakość mniejszą bądź równą od zadanej. Klasa 1 jest przyznawana pozostałym winom. Zadaną jakość można modyfikować.\n",
    "\n",
    "Drugim plikiem jest **testSVM.py**. Znajduje się tam interfejs, dzięki któremu można w łatwy sposób wykonywać testy na algorytmie SVM.\n",
    "\n",
    "W trzecim pliku - **svm.py**, znajduje się właściwy algorytm. Został on zaimplementowany w klasie SVM. Klasa zawiera następujące metody:"
   ]
  },
  {
   "cell_type": "code",
   "execution_count": null,
   "id": "4632961c",
   "metadata": {},
   "outputs": [],
   "source": [
    "def learnPolynomialKernel(self):\n",
    "        cons = {'type':'eq', 'fun': self.constraint}\n",
    "        bounds = [(0.0, 1/len(self.alpha)*self.lambdaVar*2) for _ in range(len(self.alpha))]\n",
    "        self.alpha = minimize(self.funDual, self.alpha, (self.polynomialKernel), bounds=(bounds), constraints=cons).x\n",
    "        self.setB(self.polynomialKernel)\n",
    "\n",
    "def learnRBFkernel(self):\n",
    "        cons = {'type':'eq', 'fun': self.constraint}\n",
    "        bounds = [(0.0, 1/len(self.alpha)*self.lambdaVar*2) for _ in range(len(self.alpha))]\n",
    "        self.alpha = minimize(self.funDual, self.alpha, (self.RBFkernel), bounds=(bounds), constraints=cons).x\n",
    "        self.setB(self.RBFkernel)\n",
    "\n",
    "def constraint(self, alpha):\n",
    "        output = 0\n",
    "        for i in range(len(alpha)):\n",
    "            output += alpha[i] * self.trainingSet[i][1]\n",
    "        return output"
   ]
  },
  {
   "cell_type": "markdown",
   "id": "7055fbeb",
   "metadata": {},
   "source": [
    "Metody odpowiedzialne za naukę algorytmu z użyciem jądra wielomianowego (w szczególnym przypadku liniowego) lub jądra RBF."
   ]
  },
  {
   "cell_type": "code",
   "execution_count": null,
   "id": "a3572abf",
   "metadata": {},
   "outputs": [],
   "source": [
    "def polynomialKernel(self, x1, x2):\n",
    "    return pow(np.dot(x1,x2), self.delta)\n",
    "    \n",
    "def RBFkernel(self, x1, x2):\n",
    "    return exp((-(np.linalg.norm(np.array(x1, dtype=object) - np.array(x2, dtype=object)))**2)/(2*(self.delta**2)))"
   ]
  },
  {
   "cell_type": "markdown",
   "id": "e559be1e",
   "metadata": {},
   "source": [
    "Metody implementujące jądra. Dla wygody korzystania, hiperparametr delta pełni dwie różne funkcje, w zależności od wykorzystywanego jądra."
   ]
  },
  {
   "cell_type": "code",
   "execution_count": null,
   "id": "bdd6e200",
   "metadata": {},
   "outputs": [],
   "source": [
    "def funDual(self, alpha, kernel):\n",
    "    firstSum = sum(alpha)\n",
    "    secondSum = 0\n",
    "    for i in range(len(alpha)):\n",
    "        for j in range(len(alpha)):\n",
    "            i_attributes, i_objectClass = self.trainingSet[i]\n",
    "            j_attributes, j_objectClass = self.trainingSet[j]\n",
    "            secondSum += i_objectClass * alpha[i] * j_objectClass * alpha[j] * (kernel(i_attributes, j_attributes))\n",
    "    return (0.5 * secondSum) - firstSum # -f(x) - maximize"
   ]
  },
  {
   "cell_type": "markdown",
   "id": "734278ae",
   "metadata": {},
   "source": [
    "Funkcja celu. Znajduje się w postaci dualnej, gdyż bez niej nie jest możliwe zaimplementowanie funkcji jąder. Jako że w postaci dualnej funkcja powinna być maksymalizowana, a nie minimalizowana, to końcowa różnica jest odwrotna niż jest to podane we wzorze."
   ]
  },
  {
   "cell_type": "code",
   "execution_count": null,
   "id": "d9cab3c3",
   "metadata": {},
   "outputs": [],
   "source": [
    "def setB(self, kernel):\n",
    "    bPoint = None\n",
    "    for i in range(len(self.alpha)):\n",
    "        if self.alpha[i] > 0 and self.alpha[i] < 1/(len(self.alpha)*self.lambdaVar*2):\n",
    "            bPoint = self.trainingSet[i]\n",
    "    if bPoint is not None:\n",
    "        bSum = 0\n",
    "        for j in range(len(self.alpha)):\n",
    "            bSum += self.alpha[j] * self.trainingSet[j][1] * kernel(self.trainingSet[j][0], bPoint[0])\n",
    "        self.b = bSum - bPoint[1]"
   ]
  },
  {
   "cell_type": "markdown",
   "id": "17f11403",
   "metadata": {},
   "source": [
    "Metoda wyliczająca wartość wyrazu wolnego b."
   ]
  },
  {
   "cell_type": "code",
   "execution_count": null,
   "id": "28f0e001",
   "metadata": {},
   "outputs": [],
   "source": [
    "def test(self, rbf=False):\n",
    "    if not rbf:\n",
    "        kernel = self.polynomialKernel\n",
    "    else:\n",
    "        kernel = self.RBFkernel\n",
    "    positiveResults = 0\n",
    "    for wine in self.testSet:\n",
    "        output = 0\n",
    "        for i in range(len(self.alpha)):\n",
    "            output += self.alpha[i] * self.trainingSet[i][1] * kernel(self.trainingSet[i][0],wine[0])\n",
    "            output -= self.b\n",
    "        wineClass = 1 if output >= 1 else -1\n",
    "        if wineClass == wine[1]:\n",
    "            positiveResults += 1\n",
    "    return (positiveResults/len(self.testSet)* 100)"
   ]
  },
  {
   "cell_type": "markdown",
   "id": "f83390eb",
   "metadata": {},
   "source": [
    "Metoda oceniająca skuteczność wytrenowanego algorytmu. Dla każdego punktu w zestawie testowym wyliczana jest klasa punktu, a następnie jest to porównywane z faktyczną klasą. Jako wynik zwracana procentowa ilość poprawnych klasyfikacji."
   ]
  },
  {
   "cell_type": "markdown",
   "id": "5f53b8ef",
   "metadata": {},
   "source": [
    "### 3. Eksperymenty\n",
    "\n",
    "Aby dobrze zbadać działanie algorytmu SVM, postanowiłem przeprowadzić szereg eksperymentów na wielu różnych parametrach. Trening odbywał się zawsze na liczbie 100 prób.  Wyniki w plikach .csv zostały wygenerowane za pomocą następującego skryptu:"
   ]
  },
  {
   "cell_type": "code",
   "execution_count": null,
   "id": "3daea6e3",
   "metadata": {},
   "outputs": [],
   "source": [
    "import numpy as np\n",
    "import csv\n",
    "from wineProcessing import *\n",
    "from svm import SVM\n",
    "\n",
    "def testForQuality(trainingSize, testSize, lambdaVar, delta, delimiter, RBF=True):\n",
    "    redWines = processWineQuality(\"winequality-red.csv\", delimiter=delimiter)\n",
    "    whiteWines = processWineQuality(\"winequality-white.csv\", delimiter=delimiter)\n",
    "    allWines = np.concatenate((redWines, whiteWines))\n",
    "    np.random.shuffle(allWines)\n",
    "    trainingSet = allWines[:trainingSize]\n",
    "    allWines = allWines[trainingSize:]\n",
    "    testSet = allWines[:testSize]\n",
    "\n",
    "    svm = SVM(lambdaVar=lambdaVar, trainingSet=trainingSet, testSet=testSet, delta=delta, startingAlpha=np.array([1]*(len(trainingSet))))\n",
    "    if RBF:\n",
    "        svm.learnRBFkernel()\n",
    "        return svm.test(rbf=True)\n",
    "    else:\n",
    "        svm.learnPolynomialKernel()\n",
    "        return svm.test(rbf=False)\n",
    "\n",
    "if __name__ == \"__main__\":\n",
    "\n",
    "    testSize = 6000\n",
    "    delimiters = [3,5,7]\n",
    "    lambdas = [0.01,0.1,1]\n",
    "    deltas = [1,10,100]\n",
    "    trainingSizes= [100]\n",
    "    generateRBF = False\n",
    "    generatePolynomial = False\n",
    "    generateLinear = True\n",
    "\n",
    "    if generateRBF:\n",
    "        with open(\"rbf.csv\", 'w') as file:\n",
    "\n",
    "            writer = csv.DictWriter(file, fieldnames=[\"delimiter\", \"lambda\", \"delta\", \"training set size\", \"effectiveness\"])\n",
    "            writer.writeheader()\n",
    "\n",
    "            for lambdaVar in lambdas:\n",
    "                for delta in deltas:\n",
    "                    for trainingSize in trainingSizes:\n",
    "                        for delimiter in delimiters:\n",
    "                            percent = testForQuality(trainingSize=trainingSize, testSize=6000, lambdaVar=0.01, delta=delta, delimiter=delimiter, RBF=True)\n",
    "                            writer.writerow({\"delimiter\":delimiter, \"lambda\":lambdaVar, \"delta\":delta, \"training set size\":trainingSize, \"effectiveness\":round(percent, 2)})\n",
    "    \n",
    "    if generatePolynomial:\n",
    "        with open(\"polynomial.csv\", 'w') as file:\n",
    "\n",
    "            writer = csv.DictWriter(file, fieldnames=[\"delimiter\", \"lambda\", \"delta\", \"training set size\", \"effectiveness\"])\n",
    "            writer.writeheader()\n",
    "\n",
    "            for lambdaVar in lambdas:\n",
    "                for delta in deltas:\n",
    "                    for trainingSize in trainingSizes:\n",
    "                        for delimiter in delimiters:\n",
    "                            percent = testForQuality(trainingSize=trainingSize, testSize=6000, lambdaVar=0.01, delta=delta, delimiter=delimiter, RBF=False)\n",
    "                            writer.writerow({\"delimiter\":delimiter, \"lambda\":lambdaVar, \"delta\":delta, \"training set size\":trainingSize, \"effectiveness\":round(percent, 2)})\n",
    "    \n",
    "    if generateLinear:\n",
    "        with open(\"linear.csv\", 'w') as file:\n",
    "\n",
    "            writer = csv.DictWriter(file, fieldnames=[\"delimiter\", \"lambda\", \"delta\", \"training set size\", \"effectiveness\"])\n",
    "            writer.writeheader()\n",
    "\n",
    "            for lambdaVar in lambdas:\n",
    "                for trainingSize in trainingSizes:\n",
    "                    for delimiter in delimiters:\n",
    "                        percent = testForQuality(trainingSize=trainingSize, testSize=6000, lambdaVar=0.01, delta=1, delimiter=delimiter, RBF=False)\n",
    "                        writer.writerow({\"delimiter\":delimiter, \"lambda\":lambdaVar, \"delta\":1, \"training set size\":trainingSize, \"effectiveness\":round(percent, 2)})\n"
   ]
  },
  {
   "cell_type": "markdown",
   "id": "41aba36f",
   "metadata": {},
   "source": [
    "Wyniki znajdują się w wygenerowanych plikach CSV. Istnieje opcja ich zwizualizowania przy pomocy następującej funkcji:"
   ]
  },
  {
   "cell_type": "code",
   "execution_count": 6,
   "id": "db6b9167",
   "metadata": {},
   "outputs": [
    {
     "name": "stdout",
     "output_type": "stream",
     "text": [
      "Linear kernel: \n",
      "\n",
      "\n",
      " delimiter \n",
      "\n",
      "3 - effectiveness 99.54%\n",
      "5 - effectiveness 63.44%\n",
      "7 - effectiveness 96.95%\n",
      "\n",
      " lambda \n",
      "\n",
      "0.01 - effectiveness 86.64%\n",
      "0.1 - effectiveness 86.61%\n",
      "1 - effectiveness 86.68%\n",
      "\n",
      " delta \n",
      "\n",
      "1 - effectiveness 86.64%\n",
      "\n",
      " training set size \n",
      "\n",
      "100 - effectiveness 86.64%\n",
      "\n",
      "General effectiveness: 86.64%\n",
      "\n",
      "RBF kernel: \n",
      "\n",
      "\n",
      " delimiter \n",
      "\n",
      "3 - effectiveness 77.53%\n",
      "5 - effectiveness 57.39%\n",
      "7 - effectiveness 96.94%\n",
      "\n",
      " lambda \n",
      "\n",
      "0.01 - effectiveness 72.6%\n",
      "0.1 - effectiveness 75.62%\n",
      "1 - effectiveness 83.63%\n",
      "\n",
      " delta \n",
      "\n",
      "1 - effectiveness 75.62%\n",
      "10 - effectiveness 83.59%\n",
      "100 - effectiveness 72.65%\n",
      "\n",
      " training set size \n",
      "\n",
      "100 - effectiveness 77.28%\n",
      "\n",
      "General effectiveness: 77.28%\n",
      "\n",
      "Polynomial kernel: \n",
      "\n",
      "\n",
      " delimiter \n",
      "\n",
      "3 - effectiveness 43.59%\n",
      "5 - effectiveness 51.49%\n",
      "7 - effectiveness 74.94%\n",
      "\n",
      " lambda \n",
      "\n",
      "0.01 - effectiveness 53.85%\n",
      "0.1 - effectiveness 61.42%\n",
      "1 - effectiveness 54.75%\n",
      "\n",
      " delta \n",
      "\n",
      "1 - effectiveness 86.64%\n",
      "10 - effectiveness 38.68%\n",
      "100 - effectiveness 44.7%\n",
      "\n",
      " training set size \n",
      "\n",
      "100 - effectiveness 56.67%\n",
      "\n",
      "General effectiveness: 56.67%\n"
     ]
    }
   ],
   "source": [
    "import csv\n",
    "\n",
    "def generateResultsFromCsv(filename):\n",
    "    with open(filename, 'r') as file:\n",
    "        reader = csv.DictReader(file)\n",
    "        fieldnames = reader.fieldnames\n",
    "        for field in fieldnames[:-1]:\n",
    "            effectivenessField = {}\n",
    "            for row in reader:\n",
    "                if row[field] not in effectivenessField:\n",
    "                    effectivenessField[row[field]] = list()\n",
    "                effectivenessField[row[field]].append(float(row['effectiveness']))\n",
    "            print(\"\\n\", field, \"\\n\")\n",
    "            for key, value in effectivenessField.items():\n",
    "                print(f\"{key} - effectiveness {round(sum(value)/len(value),2)}%\")\n",
    "            file.seek(0)\n",
    "            file.readline()\n",
    "        effectivenessList = []\n",
    "        for row in reader:\n",
    "            effectivenessList.append(float(row['effectiveness']))\n",
    "        print(f\"\\nGeneral effectiveness: {round(sum(effectivenessList)/len(effectivenessList),2)}%\")\n",
    "\n",
    "if __name__ == \"__main__\":\n",
    "    print(\"Linear kernel: \\n\")\n",
    "    generateResultsFromCsv(\"linear.csv\")\n",
    "    print(\"\\nRBF kernel: \\n\")\n",
    "    generateResultsFromCsv(\"rbf.csv\")\n",
    "    print(\"\\nPolynomial kernel: \\n\")\n",
    "    generateResultsFromCsv(\"polynomial.csv\")"
   ]
  },
  {
   "cell_type": "markdown",
   "id": "13a594fc",
   "metadata": {},
   "source": [
    "### 4. Wnioski\n",
    "\n",
    "Powyższe eksperymenty doprowadzają nas do paru wniosków.\n",
    "\n",
    "Po pierwsze, ogółem najlepszym okazało się być jądro liniowe, ze skutecznością na poziomie ponad 80%. Oznacza to że dane są generalnie liniowo separowalne w dużym stopniu.\n",
    "\n",
    "Po drugie, najlepszy możliwy parametr lambda zmienia się wraz z używanym jądrem. Dla jądra liniowego odpowiednia jest dowolna z podanych wartości, dla jądra RBF duża wartość, a dla jądra wielomianowego - średnia wartość (0.01). Jest to oznaka tego, że dla jądra RBF najlepsza jest twarda, \"ciasna\" granica, nie dopuszczająca złych klasyfikacji. Dla jądra liniowego margines jest na tyle duży że zmiana parametru lambda nie dokonuje większych zmian, a dla jądra wielomianowego dobry jest średni margines.\n",
    "\n",
    "Po trzecie, dla jądra wielomianowego parametr delta sprawdza się najlepiej, gdy jest możliwie mały. To oznacza, że problem jest w dużej mierze liniowo separowalny.\n",
    "\n",
    "Warto zwrócić uwagę na wartości graniczne. Pomijając jądro wielomianowe, dużo prościej jest sklasyfikować obiekty znajdujące się na końcach skali. Jest to uzasadnione. Wartości bliżej końca skali jest dużo mniej niż tych średnich, a więc prościej jest też je oddzielić od reszty danych.\n",
    "\n",
    "### 5. Podsumowanie\n",
    "\n",
    "Algorytm SVM jest jak najbardziej dobrym klasyfikatorem, choć należy uważać na odpowiednie dobranie hiperparametrów.\n",
    "Niestety jego wadą jest długi czas działania przy większych próbach. Aby wygenerować powyższe wyniki, musiałem poświęcić około 30 minut czasu pracy komputera."
   ]
  }
 ],
 "metadata": {
  "kernelspec": {
   "display_name": "Python 3.8.10 64-bit",
   "language": "python",
   "name": "python3"
  },
  "language_info": {
   "codemirror_mode": {
    "name": "ipython",
    "version": 3
   },
   "file_extension": ".py",
   "mimetype": "text/x-python",
   "name": "python",
   "nbconvert_exporter": "python",
   "pygments_lexer": "ipython3",
   "version": "3.8.10"
  },
  "vscode": {
   "interpreter": {
    "hash": "916dbcbb3f70747c44a77c7bcd40155683ae19c65e1c03b4aa3499c5328201f1"
   }
  }
 },
 "nbformat": 4,
 "nbformat_minor": 5
}
